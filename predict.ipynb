{
 "cells": [
  {
   "cell_type": "code",
   "execution_count": null,
   "id": "0986597e",
   "metadata": {},
   "outputs": [],
   "source": [
    "\n",
    "from torch import nn\n",
    "# модель вручную копируем\n",
    "class Model(nn.Module):\n",
    "    def __init__(self):\n",
    "        super(Model, self).__init__()\n",
    "        self.layers = nn.Sequential(\n",
    "            nn.Conv2d(3, 32, 3, padding=1), # 32, 256, 256 \n",
    "            nn.BatchNorm2d(32),\n",
    "            nn.ReLU(),\n",
    "            nn.MaxPool2d(2), # 32, 128, 128\n",
    "            \n",
    "            nn.Conv2d(32, 64, 3, padding=1), # 64, 128, 128 \n",
    "            nn.BatchNorm2d(64),\n",
    "            nn.ReLU(),\n",
    "            nn.MaxPool2d(2), # 64, 64, 64\n",
    "            \n",
    "            nn.Conv2d(64, 128, 3, padding=1), # 128, 64, 64 \n",
    "            nn.BatchNorm2d(128),\n",
    "            nn.ReLU(),\n",
    "            \n",
    "            nn.Conv2d(128, 256, 3, padding=1), # 256, 64, 64 \n",
    "            nn.BatchNorm2d(256),\n",
    "            nn.ReLU(),\n",
    "            \n",
    "            nn.AvgPool2d(64),         # 256, 1, 1\n",
    "            nn.Flatten(),             # 256\n",
    "            nn.Linear(256, 128),\n",
    "            nn.ReLU(),\n",
    "            nn.Dropout(0.5),\n",
    "            nn.Linear(128, 20)        # 20\n",
    "        )\n",
    "\n",
    "    def forward(self, x):\n",
    "        return self.layers(x)"
   ]
  },
  {
   "cell_type": "code",
   "execution_count": null,
   "id": "de47a08c",
   "metadata": {},
   "outputs": [
    {
     "data": {
      "text/plain": [
       "<All keys matched successfully>"
      ]
     },
     "execution_count": 2,
     "metadata": {},
     "output_type": "execute_result"
    }
   ],
   "source": [
    "import torch\n",
    "# название нужное тоже ручками\n",
    "model = Model()\n",
    "model.load_state_dict(torch.load('./saved_models/w-05-04-25_00-00-53.pth'))"
   ]
  },
  {
   "cell_type": "code",
   "execution_count": 3,
   "id": "ab9393bd",
   "metadata": {},
   "outputs": [],
   "source": [
    "import os\n",
    "import pandas as pd\n",
    "from PIL import Image\n",
    "import torchvision.transforms.v2 as v2\n",
    "\n",
    "def predict_and_save(model, img_folder, output_csv=\"predictions.csv\"):\n",
    "\n",
    "    # Проверка наличия папки\n",
    "    if not os.path.exists(img_folder):\n",
    "        raise FileNotFoundError(f\"Папка {img_folder} не найдена\")\n",
    "    \n",
    "    # Трансформации\n",
    "    transform = v2.Compose([\n",
    "        v2.Resize((256, 256)),\n",
    "        v2.PILToTensor(),\n",
    "        v2.ToDtype(torch.float32, scale=True),\n",
    "        v2.Normalize([0.4674, 0.4498, 0.4123], [0.2686, 0.2641, 0.2690])\n",
    "    ])\n",
    "    \n",
    "    # Сбор предсказаний\n",
    "    results = []\n",
    "    for img_name in os.listdir(img_folder):\n",
    "        if img_name.lower().endswith('.jpg'):\n",
    "            try:\n",
    "                # Загрузка и преобразование\n",
    "                img_path = os.path.join(img_folder, img_name)\n",
    "                img = Image.open(img_path).convert('RGB')\n",
    "                tensor = transform(img).unsqueeze(0).to(next(model.parameters()).device)\n",
    "                \n",
    "                # Предсказание\n",
    "                with torch.no_grad():\n",
    "                    pred = model(tensor).argmax().item()\n",
    "                \n",
    "                # Сохранение результата\n",
    "                img_id = os.path.splitext(img_name)[0]\n",
    "                results.append({\"img_id\": img_id, \"target_feature\": pred})\n",
    "                \n",
    "            except Exception as e:\n",
    "                print(f\"Ошибка при обработке {img_name}: {str(e)}\")\n",
    "    \n",
    "    # Сохранение в CSV\n",
    "    pd.DataFrame(results).to_csv(output_csv, index=False)\n",
    "    print(f\"Готово! Результаты сохранены в {output_csv}\")"
   ]
  },
  {
   "cell_type": "code",
   "execution_count": 4,
   "id": "c8fca3c6",
   "metadata": {},
   "outputs": [
    {
     "name": "stdout",
     "output_type": "stream",
     "text": [
      "Готово! Результаты сохранены в predictions.csv\n"
     ]
    }
   ],
   "source": [
    "predict_and_save(model, './human_poses_data/img_test/')"
   ]
  },
  {
   "cell_type": "code",
   "execution_count": 27,
   "id": "206e0984",
   "metadata": {},
   "outputs": [
    {
     "name": "stdout",
     "output_type": "stream",
     "text": [
      "Raw output: tensor([[ 2.2050, -2.0198,  0.8653,  1.4512, -1.0000,  1.0774,  1.1877, -4.7739,\n",
      "         -1.2957,  1.0818,  0.2369,  0.1816, -0.5268,  0.1613, -0.4538, -5.7638,\n",
      "          0.9688, -5.4395, -0.0962, -6.4506]])\n",
      "Predicted class: 0\n"
     ]
    }
   ],
   "source": [
    "# Проверка предсказаний на тестовых данных\n",
    "test_input = torch.randn(1, 3, 256, 256)  # Тестовый тензор\n",
    "with torch.no_grad():\n",
    "    output = model(test_input)\n",
    "    print(\"Raw output:\", output)\n",
    "    print(\"Predicted class:\", torch.argmax(output).item())"
   ]
  }
 ],
 "metadata": {
  "kernelspec": {
   "display_name": ".venv",
   "language": "python",
   "name": "python3"
  },
  "language_info": {
   "codemirror_mode": {
    "name": "ipython",
    "version": 3
   },
   "file_extension": ".py",
   "mimetype": "text/x-python",
   "name": "python",
   "nbconvert_exporter": "python",
   "pygments_lexer": "ipython3",
   "version": "3.12.9"
  }
 },
 "nbformat": 4,
 "nbformat_minor": 5
}
